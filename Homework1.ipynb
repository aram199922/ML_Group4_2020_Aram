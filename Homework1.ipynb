{
 "cells": [
  {
   "cell_type": "code",
   "execution_count": 20,
   "metadata": {},
   "outputs": [
    {
     "name": "stdout",
     "output_type": "stream",
     "text": [
      "['hello', 1, True]\n",
      "Enter a new value for the Listf\n",
      "['hello', 1, True, 'f']\n"
     ]
    }
   ],
   "source": [
    "list1=[\"hello\", 1, True]\n",
    "print (list1)\n",
    "fromUser=input(\"Enter a new value for the List\")\n",
    "list1.append(fromUser)\n",
    "print (list1)"
   ]
  },
  {
   "cell_type": "code",
   "execution_count": 32,
   "metadata": {},
   "outputs": [
    {
     "name": "stdout",
     "output_type": "stream",
     "text": [
      "['bobo', 2, 3, 4, 5, False]\n",
      "[2, 3, 4]\n"
     ]
    }
   ],
   "source": [
    "list2=[\"bobo\", 2, 3, 4, 5, False]\n",
    "print (list2)\n",
    "del list2[4:6]\n",
    "list2.pop(0)\n",
    "print (list2)"
   ]
  },
  {
   "cell_type": "code",
   "execution_count": 50,
   "metadata": {},
   "outputs": [
    {
     "name": "stdout",
     "output_type": "stream",
     "text": [
      "Enter a new value for the Set3\n",
      "True\n"
     ]
    }
   ],
   "source": [
    "set3 = {2,3,4,5}\n",
    "fromUser = int(input(\"Enter a new value for the Set\"))\n",
    "print(min(set3) < fromUser < max(set3))"
   ]
  },
  {
   "cell_type": "code",
   "execution_count": 55,
   "metadata": {},
   "outputs": [
    {
     "name": "stdout",
     "output_type": "stream",
     "text": [
      "{'key1': True, 'key2': 3, 'key3': 'Hello'}\n",
      "Enter a key to the Dict4\n",
      "Entere a value the new key4\n",
      "{'key1': True, 'key2': 3, 'key3': 'Hello', '4': '4'}\n"
     ]
    }
   ],
   "source": [
    "dict1 = {\"key1\": True, \"key2\": 3, \"key3\": \"Hello\"}\n",
    "print (dict1)\n",
    "newKey, newValue = input(\"Enter a key to the Dict\"), input(\"Entere a value the new key\")\n",
    "dict1.update({newKey:newValue})\n",
    "print (dict1)"
   ]
  },
  {
   "cell_type": "code",
   "execution_count": 53,
   "metadata": {},
   "outputs": [
    {
     "name": "stdout",
     "output_type": "stream",
     "text": [
      "Rectangle\n"
     ]
    }
   ],
   "source": [
    "a,b=5,6\n",
    "print(\"Square\" if a==b else \"Rectangle\")"
   ]
  },
  {
   "cell_type": "code",
   "execution_count": 43,
   "metadata": {},
   "outputs": [
    {
     "name": "stdout",
     "output_type": "stream",
     "text": [
      "Welcome Mr.Aram!\n",
      "DearAram,you are too young to register\n",
      "Please enter a different password\n"
     ]
    }
   ],
   "source": [
    "name= \"Aram\"\n",
    "age= 11\n",
    "password= \"bb*\"\n",
    "print (\"Welcome Mr.\" + name + \"!\")\n",
    "print (\"Dear\"+name+\",you are too young to register\" if age<16 else \"\")\n",
    "print (\"Please enter a different password\" if not \"*\" in password or not \"&\" in password else \"\")"
   ]
  },
  {
   "cell_type": "code",
   "execution_count": 6,
   "metadata": {},
   "outputs": [
    {
     "name": "stdout",
     "output_type": "stream",
     "text": [
      "1\n",
      "3\n",
      "5\n",
      "7\n",
      "9\n",
      "11\n",
      "13\n",
      "15\n",
      "17\n",
      "19\n",
      "21\n",
      "23\n",
      "25\n",
      "27\n",
      "29\n",
      "31\n",
      "33\n",
      "35\n",
      "37\n",
      "39\n",
      "41\n",
      "43\n",
      "45\n",
      "47\n",
      "49\n",
      "51\n",
      "53\n",
      "55\n",
      "57\n",
      "59\n",
      "61\n",
      "63\n",
      "65\n",
      "67\n",
      "69\n",
      "71\n",
      "73\n",
      "75\n",
      "77\n",
      "79\n",
      "81\n",
      "83\n",
      "85\n",
      "87\n",
      "89\n",
      "91\n",
      "93\n",
      "95\n",
      "97\n",
      "99\n"
     ]
    }
   ],
   "source": [
    "for i in range(0,101):\n",
    "    if i%2==1:\n",
    "        print (i)"
   ]
  },
  {
   "cell_type": "code",
   "execution_count": 5,
   "metadata": {},
   "outputs": [
    {
     "name": "stdout",
     "output_type": "stream",
     "text": [
      "1\n",
      "2\n",
      "3\n",
      "4\n",
      "5\n",
      "6\n",
      "7\n",
      "8\n",
      "9\n",
      "10\n",
      "11\n",
      "12\n",
      "13\n",
      "14\n"
     ]
    }
   ],
   "source": [
    "for i in range (1,21):\n",
    "    if i%3==0 and i%5==0:\n",
    "        break\n",
    "    print(i)"
   ]
  },
  {
   "cell_type": "code",
   "execution_count": 38,
   "metadata": {},
   "outputs": [
    {
     "name": "stdout",
     "output_type": "stream",
     "text": [
      "[500, 2, 19, 20, 35, 1]\n",
      "[500, 35]\n"
     ]
    }
   ],
   "source": [
    "list1= [500,2,19,20,35,1]\n",
    "print (list1)\n",
    "list2=[list1[i] for i in range(len(list1))  if list1[i]>20]\n",
    "\n",
    "list2=[l for l in list1  if l>20]\n",
    "\n",
    "print (list2)"
   ]
  },
  {
   "cell_type": "code",
   "execution_count": 5,
   "metadata": {},
   "outputs": [
    {
     "name": "stdout",
     "output_type": "stream",
     "text": [
      "[2, 5, 7, True, False, 'bobo', '2']\n",
      "Enter a value2\n",
      "Number of2's=1\n"
     ]
    }
   ],
   "source": [
    "list1= [2,5,7,True,False,\"bobo\",\"2\"]\n",
    "print (list1)\n",
    "userValue=input(\"Enter a value\")\n",
    "str(list1.count(userValue))\n",
    "print (\"Number of\" + userValue + \"'s=\" + str(list1.count(userValue)))"
   ]
  },
  {
   "cell_type": "code",
   "execution_count": 10,
   "metadata": {},
   "outputs": [
    {
     "name": "stdout",
     "output_type": "stream",
     "text": [
      "('Hello', 2, True, 6, 9, False)\n",
      "('Hello', 2, True, 6, 'Hello', False)\n"
     ]
    }
   ],
   "source": [
    "t2=(\"Hello\",2,True,6,9,False)\n",
    "print (t2)\n",
    "list1=list(t2)\n",
    "list1[4]=\"Hello\"\n",
    "t2=tuple(list1)\n",
    "print (t2)"
   ]
  },
  {
   "cell_type": "code",
   "execution_count": 2,
   "metadata": {},
   "outputs": [
    {
     "name": "stdout",
     "output_type": "stream",
     "text": [
      "45\n",
      "{'name': 'Armen', 'age': 15, 'grades': [10, 8, 8, 4, 6, 7], 'weight': 45}\n"
     ]
    }
   ],
   "source": [
    "d= {\"name\": \"Armen\", \"age\": 15, \"grades\":[10, 8, 8, 4, 6, 7]}\n",
    "if \"weight\" not in d:\n",
    "    n=int(input())\n",
    "    d.update({\"weight\":n})\n",
    "else:\n",
    "    print(d[\"weight\"])\n",
    "print(d)"
   ]
  },
  {
   "cell_type": "code",
   "execution_count": 3,
   "metadata": {
    "scrolled": true
   },
   "outputs": [
    {
     "name": "stdout",
     "output_type": "stream",
     "text": [
      "Give an integer4\n",
      "Give an integer9\n",
      "Give an integer5\n",
      "That was a good guess\n"
     ]
    }
   ],
   "source": [
    "correct_num=5\n",
    "for i in range (0,10):\n",
    "    guess=int(input(\"Give an integer\"))\n",
    "    if guess==correct_num:\n",
    "        print(\"That was a good guess\")\n",
    "        break"
   ]
  },
  {
   "cell_type": "code",
   "execution_count": 11,
   "metadata": {},
   "outputs": [
    {
     "name": "stdout",
     "output_type": "stream",
     "text": [
      "['aba', '1221']\n",
      "2\n"
     ]
    }
   ],
   "source": [
    "list1=['a', 'abc', 'xyz', 's', 'aba', '1221']\n",
    "list2=[el for el in list1 if len(el)>=2 and el[0]==el[-1]]\n",
    "print (list2)\n",
    "print(len(list2))"
   ]
  },
  {
   "cell_type": "code",
   "execution_count": null,
   "metadata": {},
   "outputs": [],
   "source": []
  }
 ],
 "metadata": {
  "kernelspec": {
   "display_name": "Python 3",
   "language": "python",
   "name": "python3"
  },
  "language_info": {
   "codemirror_mode": {
    "name": "ipython",
    "version": 3
   },
   "file_extension": ".py",
   "mimetype": "text/x-python",
   "name": "python",
   "nbconvert_exporter": "python",
   "pygments_lexer": "ipython3",
   "version": "3.7.6"
  }
 },
 "nbformat": 4,
 "nbformat_minor": 4
}
